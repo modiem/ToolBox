{
 "cells": [
  {
   "cell_type": "markdown",
   "metadata": {},
   "source": [
    "# Data Exploration"
   ]
  },
  {
   "cell_type": "markdown",
   "metadata": {
    "heading_collapsed": true
   },
   "source": [
    "## Visualisation"
   ]
  },
  {
   "cell_type": "code",
   "execution_count": 7,
   "metadata": {
    "hidden": true
   },
   "outputs": [
    {
     "data": {
      "text/plain": [
       "<Figure size 864x360 with 0 Axes>"
      ]
     },
     "metadata": {},
     "output_type": "display_data"
    }
   ],
   "source": [
    "import seaborn as sns\n",
    "import matplotlib.pyplot as plt\n",
    "\n",
    "plt.style.use('fivethirtyeight')\n",
    "plt.rcParams['font.size'] = 14\n",
    "plt.figure(figsize=(12,5))\n",
    "palette = sns.color_palette('Paired', 10)"
   ]
  },
  {
   "cell_type": "markdown",
   "metadata": {
    "hidden": true
   },
   "source": [
    "### Distribution"
   ]
  },
  {
   "cell_type": "code",
   "execution_count": 8,
   "metadata": {
    "hidden": true
   },
   "outputs": [],
   "source": [
    "def plot_dist(series, title = \"Distribution\"):\n",
    "    ''' \n",
    "    Normalized counts so that the area of the histogram is 1.\n",
    "    Bars are centered on their corresponding data points to avoid gaps.\n",
    "    '''\n",
    "    sns.histplot(series, kde = True, stat = \"density\", discrete = True)\n",
    "    sns.despine()\n",
    "    plt.title(title);\n",
    "    plt.show()"
   ]
  },
  {
   "cell_type": "code",
   "execution_count": 9,
   "metadata": {
    "hidden": true
   },
   "outputs": [
    {
     "data": {
      "image/png": "[encoded data removed]",
      "text/plain": [
       "<Figure size 432x288 with 1 Axes>"
      ]
     },
     "metadata": {},
     "output_type": "display_data"
    }
   ],
   "source": [
    "import numpy as np\n",
    "plot_dist(np.random.normal(10,2, 50))"
   ]
  },
  {
   "cell_type": "markdown",
   "metadata": {
    "hidden": true
   },
   "source": [
    "### Correlation:  `sns.catplot` "
   ]
  },
  {
   "cell_type": "markdown",
   "metadata": {
    "hidden": true
   },
   "source": [
    "Firstly, you can visualize the target variable vs another variable. \n",
    "- For categorical variables, it is often useful to compute the average target variable for each category.\n",
    "```python\n",
    "sns.catplot(kind = \"bar\")\n",
    "```\n",
    "- For continuous variables(like distance), you can use scatter plots, or regression plots, or bucket the distance into different bins.\n",
    "```python\n",
    "sns.scatterplot()\n",
    "```"
   ]
  },
  {
   "cell_type": "markdown",
   "metadata": {
    "hidden": true
   },
   "source": [
    "- bucket：\n",
    "\n",
    "```python\n",
    "# We can also visualise binned fare_amount variable\n",
    "df['fare-bin'] = pd.cut(df['fare_amount'], bins = list(range(0, 50, 5))).astype(str)\n",
    "\n",
    "# Uppermost bin\n",
    "df.loc[df['fare-bin'] == 'nan', 'fare-bin'] = '[45+]'\n",
    "\n",
    "# Adjust bin so the sorting is correct\n",
    "df.loc[df['fare-bin'] == '(5, 10]', 'fare-bin'] = '(05, 10]'\n",
    "\n",
    "sns.catplot(x=\"fare-bin\", kind=\"count\", palette=palette, data=df, height=5, aspect=3);\n",
    "sns.despine()\n",
    "plt.show()\n",
    "```"
   ]
  },
  {
   "cell_type": "markdown",
   "metadata": {
    "heading_collapsed": true
   },
   "source": [
    "## Time Features"
   ]
  },
  {
   "cell_type": "code",
   "execution_count": 15,
   "metadata": {
    "hidden": true
   },
   "outputs": [],
   "source": [
    "import datetime, pytz\n",
    "now = datetime.datetime.now()"
   ]
  },
  {
   "cell_type": "code",
   "execution_count": 18,
   "metadata": {
    "hidden": true
   },
   "outputs": [],
   "source": [
    "def extract_time_features(df, time_column = \"timestamp\", timezone = \"UTC\"):\n",
    "    '''\n",
    "    Use this function to extract time features from timestamp\n",
    "    '''   \n",
    "    time_column = time_column\n",
    "    timezone = timezone\n",
    "    df.index = pd.to_datetime(df[time_column])\n",
    "    df.index = df.index.tz_convert(timezone)\n",
    "    df['dow'] = df.index.weekday\n",
    "    df['hour'] = df.index.hour\n",
    "    df['month'] = df.index.month\n",
    "    df['year'] = df.index.year\n",
    "    return df.reset_index(drop = True)"
   ]
  },
  {
   "cell_type": "code",
   "execution_count": 20,
   "metadata": {
    "hidden": true
   },
   "outputs": [],
   "source": [
    "def plot_time_features(df, x = \"dow\"):\n",
    "    palette = sns.color_palette('Paired', 10)\n",
    "    sns.catplot(x = x, kind = \"count\", palette = palette, data = df,\n",
    "               height = 5, aspect = 3)\n",
    "    sns.despine()\n",
    "    plt.title(f\"{x.capitalize()} Count\")\n",
    "    plt.show()\n",
    "    "
   ]
  },
  {
   "cell_type": "markdown",
   "metadata": {
    "heading_collapsed": true
   },
   "source": [
    "## Geospatial Data"
   ]
  },
  {
   "cell_type": "code",
   "execution_count": 22,
   "metadata": {
    "hidden": true
   },
   "outputs": [],
   "source": [
    "import folium\n",
    "from folium.plugins import HeatMap\n",
    "from folium.plugins import HeatMapWithTime\n",
    "\n",
    "def generate_map(df, latitude_col, longitude_col):\n",
    "    '''\n",
    "    Generate a map centered at the mean of latitude/longitude.\n",
    "    Input the column name (string) of coordinate series.\n",
    "    '''\n",
    "    center_location = [df[latitude_col].mean(), df[longitude_col].mean()]   \n",
    "    m = folium.Map(location = center_location,\n",
    "                   control_scale = True,\n",
    "                   zoom_start = 11)\n",
    "    return m\n",
    "    \n",
    "def plot_heatmap(df, latitude_col, longitude_col, n_sample = 1_000):\n",
    "\n",
    "    m = generate_map(df, latitude_col, longitude_col)\n",
    "    \n",
    "    if 'count' not in df.columns:\n",
    "        df['count'] = 1\n",
    "           \n",
    "    heatmap_data = df.sample(n_sample)[[latitude_col, longitude_col, \"count\"]]\\\n",
    "                    .groupby([latitude_col, longitude_col]).sum().reset_index().values.tolist()\n",
    "    gradient = {0.2: 'blue', 0.4: 'lime', 0.6: 'orange', 1: 'red'}\n",
    "    \n",
    "    HeatMap(data = heatmap_data, radius = 5, gradient=gradient,\n",
    "            max_zoom = 13).add_to(m)\n",
    "    return m\n",
    "\n",
    "def plot_heatmap_by_time(df, latitude_col, longitude_col, time_col, n_sample = 1_000):\n",
    "    '''\n",
    "    Categorical time like hour, day rather than continues time.\n",
    "    '''\n",
    "    m = generate_map(df, latitude_col, longitude_col)\n",
    "    if 'count' not in df.columns:\n",
    "        df['count'] = 1\n",
    "    \n",
    "    heatmap_data_by_time = []\n",
    "    __df__ = df.sample(n_sample)\n",
    "    for time in df[time_col].sort_values().unique():\n",
    "        _df = __df__[__df__[time_col] == time][[latitude_col, longitude_col, 'count']]\\\n",
    "              .groupby([latitude_col, longitude_col]).sum().reset_index().values.tolist()\n",
    "        heatmap_data_by_time.append(_df)\n",
    "    HeatMapWithTime(heatmap_data_by_time,\n",
    "                    radius = 5,\n",
    "                    gradient = {0.2: 'blue', 0.4: 'lime', 0.6: 'orange', 1: 'red'},\n",
    "                    min_opacity=0.5, max_opacity=0.8, \n",
    "                    use_local_extrema=False).add_to(m)\n",
    "    return m"
   ]
  },
  {
   "cell_type": "markdown",
   "metadata": {
    "heading_collapsed": true
   },
   "source": [
    "## Distance"
   ]
  },
  {
   "cell_type": "markdown",
   "metadata": {
    "heading_collapsed": true,
    "hidden": true
   },
   "source": [
    "### Manhattan & Euclidian Distance"
   ]
  },
  {
   "cell_type": "code",
   "execution_count": null,
   "metadata": {
    "hidden": true
   },
   "outputs": [],
   "source": [
    "def minkowski_distance(x1, x2, y1, y2, p):\n",
    "    delta_x = x1 - x2\n",
    "    delta_y = y1 - y2\n",
    "    return ((abs(delta_x) ** p) + (abs(delta_y)) ** p) ** (1 / p)\n",
    "\n",
    "def deg2rad(coordinate):\n",
    "    return coordinate * np.pi / 180\n",
    "    \n",
    "# convert radians into distance\n",
    "def rad2dist(coordinate):\n",
    "    earth_radius = 6371 # km\n",
    "    return earth_radius * coordinate\n",
    "    \n",
    "# correct the longitude distance regarding the latitude (https://jonisalonen.com/2014/computing-distance-between-coordinates-can-be-simple-and-fast/)\n",
    "def lng_dist_corrected(lng_dist, lat):\n",
    "    return lng_dist * np.cos(lat)\n",
    "\n",
    "def minkowski_distance_gps(lat1, lat2, lon1, lon2, p):\n",
    "    lat1, lat2, lon1, lon2 = [deg2rad(coordinate) for coordinate in [lat1, lat2, lon1, lon2]]\n",
    "    y1, y2, x1, x2 = [rad2dist(angle) for angle in [lat1, lat2, lon1, lon2]]\n",
    "    x1, x2 = [lng_dist_corrected(elt['x'], elt['lat']) for elt in [{'x': x1, 'lat': lat1}, {'x': x2, 'lat': lat2}]]\n",
    "    return minkowski_distance(x1, x2, y1, y2, p)\n",
    "\n",
    "def get_manhattan_distance(lat1, lat2, lon1, lon2):\n",
    "    return minkowski_distance_gps(lat1, lat2, lon1, lon2, 1)\n",
    "\n",
    "def get_euclidian_distance(lat1, lat2, lon1, lon2):\n",
    "    return minkowski_distance_gps(lat1, lat2, lon1, lon2, 2)\n"
   ]
  },
  {
   "cell_type": "markdown",
   "metadata": {
    "heading_collapsed": true,
    "hidden": true
   },
   "source": [
    "### Haversine_distance"
   ]
  },
  {
   "cell_type": "code",
   "execution_count": 27,
   "metadata": {
    "hidden": true
   },
   "outputs": [],
   "source": [
    "import numpy as np\n",
    "\n",
    "def get_haversine_distance(lat1, lat2, lon1, lon2):\n",
    "    \"\"\"\n",
    "        Calculate the great circle distance between two points \n",
    "        on the earth (specified in decimal degrees).\n",
    "        Return a pandas Series.\n",
    "    \"\"\"\n",
    "\n",
    "    lat_1_rad, lon_1_rad = np.radians(lat1.astype(float)), np.radians(lon1.astype(float))\n",
    "    lat_2_rad, lon_2_rad = np.radians(lat2.astype(float)), np.radians(lon2.astype(float))\n",
    "    dlon = lon_2_rad - lon_1_rad\n",
    "    dlat = lat_2_rad - lat_1_rad\n",
    "\n",
    "    a = np.sin(dlat / 2.0) ** 2 + np.cos(lat_1_rad) * np.cos(lat_2_rad) * np.sin(dlon / 2.0) ** 2\n",
    "    c = 2 * np.arcsin(np.sqrt(a))\n",
    "    haversine_distance = 6371 * c\n",
    "    return haversine_distance\n"
   ]
  },
  {
   "cell_type": "markdown",
   "metadata": {
    "heading_collapsed": true
   },
   "source": [
    "# Scorer"
   ]
  },
  {
   "cell_type": "code",
   "execution_count": 102,
   "metadata": {
    "hidden": true
   },
   "outputs": [],
   "source": [
    "## Custom Scorer"
   ]
  },
  {
   "cell_type": "markdown",
   "metadata": {},
   "source": [
    "# Pipeline"
   ]
  },
  {
   "cell_type": "markdown",
   "metadata": {
    "heading_collapsed": true
   },
   "source": [
    "## Custom Transformers"
   ]
  },
  {
   "cell_type": "markdown",
   "metadata": {
    "heading_collapsed": true,
    "hidden": true
   },
   "source": [
    "### Distance Transformer"
   ]
  },
  {
   "cell_type": "code",
   "execution_count": 29,
   "metadata": {
    "hidden": true
   },
   "outputs": [],
   "source": [
    "from sklearn.base import BaseEstimator, TransformerMixin\n",
    "\n",
    "class DistanceTransformer(BaseEstimator, TransformerMixin):\n",
    "    '''\n",
    "        Compute the haversine distance between two GPS points.\n",
    "        Return a copy of the DataFrame X with only one column: 'distance'\n",
    "    '''\n",
    "    def __init__(self, \n",
    "                 lat1 = \"start_latitude\", \n",
    "                 lat2 = \"end_latitude\", \n",
    "                 lon1 = \"start_longitude\", \n",
    "                 lon2 = \"end_longitude\"):\n",
    "        self.lat1 = lat1\n",
    "        self.lat2 = lat2\n",
    "        self.lon1 = lon1\n",
    "        self.lon2 = lon2\n",
    "        \n",
    "    def fit(self, X, y=None):\n",
    "        return self\n",
    "    \n",
    "    def transform(self, X, y = None):\n",
    "        assert isinstance(X, pd.DataFrame)\n",
    "        X_ = X.copy()\n",
    "        X_[\"distance\"] = get_haversine_distance(X_[self.lat1],\n",
    "                                                X_[self.lat2],\n",
    "                                                X_[self.lon1],\n",
    "                                                X_[self.lon2])\n",
    "        return X_[['distance']]"
   ]
  },
  {
   "cell_type": "markdown",
   "metadata": {
    "heading_collapsed": true,
    "hidden": true
   },
   "source": [
    "### TimeFeatureEncoder"
   ]
  },
  {
   "cell_type": "code",
   "execution_count": 35,
   "metadata": {
    "hidden": true
   },
   "outputs": [],
   "source": [
    "class TimeFeaturesEncoder(BaseEstimator, TransformerMixin):\n",
    "    \"\"\"\n",
    "        Extract the day of week (dow), the hour, the month and the year from a timestamp column.\n",
    "        Return a copy of the DataFrame X with only four columns: 'dow', 'hour', 'mont', 'year'.\n",
    "    \"\"\"\n",
    "    def __init__(self, time_col = \"time_stamp\", time_zone = \"UTC\"):\n",
    "        self.time_col = time_col\n",
    "        self.time_zone = time_zone\n",
    "        \n",
    "    def fit(self, X, y = None):\n",
    "        return self\n",
    "    \n",
    "    def transform(self, X, y=None):\n",
    "        assert isinstance(X, pd.DataFrame)\n",
    "        X_ = X.copy()\n",
    "        X_.index = pd.to_datetime(X[self.time_col])\n",
    "        X_.index = X_.index.tz_convert(self.time_zone)\n",
    "        X_['dow'] = X_.index.weekday\n",
    "        X_['hour'] = X_.index.hour\n",
    "        X_[\"month\"] = X_.index.month\n",
    "        X_[\"year\"] = X_.index.year\n",
    "        return X_[['dow', 'hour', 'month', 'year']]   "
   ]
  },
  {
   "cell_type": "markdown",
   "metadata": {},
   "source": [
    "## set pipeline"
   ]
  },
  {
   "cell_type": "markdown",
   "metadata": {
    "heading_collapsed": true
   },
   "source": [
    "### Preprocessing"
   ]
  },
  {
   "cell_type": "code",
   "execution_count": 36,
   "metadata": {
    "hidden": true
   },
   "outputs": [],
   "source": [
    "from sklearn.pipeline import Pipeline\n",
    "from sklearn.preprocessing import StandardScaler\n",
    "from sklearn.preprocessing import OneHotEncoder\n",
    "from sklearn.compose import ColumnTransformer\n",
    "\n",
    "# create distance pipeline\n",
    "dist_pipe = Pipeline([\n",
    "    ('dist_trans', DistanceTransformer()),\n",
    "    ('stdscaler', StandardScaler())\n",
    "])\n",
    "\n",
    "\n",
    "# create time pipeline\n",
    "time_pipe = Pipeline([\n",
    "    ('time_enc', TimeFeaturesEncoder()),\n",
    "    ('ohe', OneHotEncoder(handle_unknown='ignore'))\n",
    "])\n",
    "\n",
    "# create preprocessing pipeline\n",
    "preproc_pipe = ColumnTransformer([\n",
    "    ('distance', dist_pipe, [\"pickup_latitude\", \"pickup_longitude\", 'dropoff_latitude', 'dropoff_longitude']),\n",
    "    ('time', time_pipe, ['pickup_datetime'])\n",
    "], remainder=\"drop\")"
   ]
  },
  {
   "cell_type": "markdown",
   "metadata": {
    "heading_collapsed": true
   },
   "source": [
    "### Model Pipeline"
   ]
  },
  {
   "cell_type": "code",
   "execution_count": 37,
   "metadata": {
    "hidden": true,
    "scrolled": true
   },
   "outputs": [
    {
     "data": {
      "text/plain": [
       "Pipeline(steps=[('preproc',\n",
       "                 ColumnTransformer(transformers=[('distance',\n",
       "                                                  Pipeline(steps=[('dist_trans',\n",
       "                                                                   DistanceTransformer()),\n",
       "                                                                  ('stdscaler',\n",
       "                                                                   StandardScaler())]),\n",
       "                                                  ['pickup_latitude',\n",
       "                                                   'pickup_longitude',\n",
       "                                                   'dropoff_latitude',\n",
       "                                                   'dropoff_longitude']),\n",
       "                                                 ('time',\n",
       "                                                  Pipeline(steps=[('time_enc',\n",
       "                                                                   TimeFeaturesEncoder()),\n",
       "                                                                  ('ohe',\n",
       "                                                                   OneHotEncoder(handle_unknown='ignore'))]),\n",
       "                                                  ['pickup_datetime'])])),\n",
       "                ('linear_model', LinearRegression())])"
      ]
     },
     "execution_count": 37,
     "metadata": {},
     "output_type": "execute_result"
    }
   ],
   "source": [
    "from sklearn.linear_model import LinearRegression\n",
    "\n",
    "# Add the model of your choice to the pipeline\n",
    "pipe = Pipeline([\n",
    "  ('preproc', preproc_pipe),\n",
    "  ('linear_model', LinearRegression())\n",
    "])\n",
    "\n",
    "# display the pipeline with model\n",
    "pipe"
   ]
  },
  {
   "cell_type": "markdown",
   "metadata": {
    "heading_collapsed": true
   },
   "source": [
    "### Put Together"
   ]
  },
  {
   "cell_type": "code",
   "execution_count": null,
   "metadata": {
    "hidden": true
   },
   "outputs": [],
   "source": [
    "def set_pipeline():\n",
    "    '''returns a pipelined model'''\n",
    "    dist_pipe = Pipeline([\n",
    "        ('dist_trans', DistanceTransformer()),\n",
    "        ('stdscaler', StandardScaler())\n",
    "    ])\n",
    "    time_pipe = Pipeline([\n",
    "        ('time_enc', TimeFeaturesEncoder('pickup_datetime')),\n",
    "        ('ohe', OneHotEncoder(handle_unknown='ignore'))\n",
    "    ])\n",
    "    preproc_pipe = ColumnTransformer([\n",
    "        ('distance', dist_pipe, [\"pickup_latitude\", \"pickup_longitude\", 'dropoff_latitude', 'dropoff_longitude']),\n",
    "        ('time', time_pipe, ['pickup_datetime'])\n",
    "    ], remainder=\"drop\")\n",
    "    pipe = Pipeline([\n",
    "        ('preproc', preproc_pipe),\n",
    "        ('linear_model', LinearRegression())\n",
    "    ])\n",
    "    return pipe"
   ]
  },
  {
   "cell_type": "code",
   "execution_count": null,
   "metadata": {
    "hidden": true
   },
   "outputs": [],
   "source": [
    "#implement train() function\n",
    "def train(X_train, y_train, pipeline):\n",
    "    '''returns a trained pipelined model'''\n",
    "    pipeline.fit(X_train, y_train)\n",
    "    return pipeline"
   ]
  },
  {
   "cell_type": "code",
   "execution_count": null,
   "metadata": {
    "hidden": true
   },
   "outputs": [],
   "source": [
    "#implement evaluate() function\n",
    "def evaluate(X_test, y_test, pipeline, metric):\n",
    "    '''returns the value of the RMSE'''\n",
    "    y_pred = pipeline.predict(X_test)\n",
    "    score = metric(y_pred, y_test)\n",
    "    print(score)\n",
    "    return score"
   ]
  },
  {
   "cell_type": "markdown",
   "metadata": {
    "heading_collapsed": true
   },
   "source": [
    "### typical pipeline"
   ]
  },
  {
   "cell_type": "code",
   "execution_count": 1,
   "metadata": {
    "hidden": true
   },
   "outputs": [],
   "source": [
    "# visualizing pipelines in HTML\n",
    "from sklearn import set_config; set_config(display='diagram')"
   ]
  },
  {
   "cell_type": "code",
   "execution_count": 74,
   "metadata": {
    "hidden": true
   },
   "outputs": [],
   "source": [
    "from sklearn import datasets\n",
    "import pandas as pd\n",
    "\n",
    "data = pd.read_csv(\"data.csv\")\n",
    "data.dropna(inplace = True)\n",
    "\n",
    "y = data.pop('charges')\n",
    "X = data"
   ]
  },
  {
   "cell_type": "code",
   "execution_count": 30,
   "metadata": {
    "hidden": true
   },
   "outputs": [],
   "source": [
    "from sklearn.base import TransformerMixin, BaseEstimator\n",
    "\n",
    "class CustomScaler(TransformerMixin, BaseEstimator): \n",
    "# TransformerMixin generates a fit_transform method from fit and transform\n",
    "# BaseEstimator generates get_params and set_params methods\n",
    "    \n",
    "    def __init__(self, shrink_factor):\n",
    "        self.shrink_factor = shrink_factor\n",
    "    \n",
    "    def fit(self, X, y=None):\n",
    "        self.means = X.mean()\n",
    "        return self\n",
    "    \n",
    "    def transform(self, X, y=None):\n",
    "        X_transformed = (X - self.means) / self.shrink_factor\n",
    "        # Return result as dataframe for integration into ColumnTransformer\n",
    "        return pd.DataFrame(X_transformed)"
   ]
  },
  {
   "cell_type": "code",
   "execution_count": 44,
   "metadata": {
    "hidden": true
   },
   "outputs": [],
   "source": [
    "class CustomOHE2(TransformerMixin, BaseEstimator):\n",
    "    def __init__(self):\n",
    "        pass\n",
    "    \n",
    "    def fit(self, X):\n",
    "        X_dummified = pd.get_dummies(X)\n",
    "        self.columns = X_dummified.columns\n",
    "        return self\n",
    "    \n",
    "    def transform(self, X):\n",
    "        X_dummified = pd.get_dummies(X)\n",
    "        # Only keep columns that are computed in the fit() method\n",
    "        # Drop new dummy columns if new category appears in the test set that were never seen in train set\n",
    "        X_dummified_reindexed = X_dummified.reindex(columns=self.columns, fill_value=0)\n",
    "        return X_dummified_reindexed\n",
    "    \n",
    "class CustomColumnTransformer(ColumnTransformer):\n",
    "    def transform(self, *args, **kwargs):\n",
    "        return pd.DataFrame(super().transform(*args, **kwargs), columns=self.get_feature_names())\n",
    "    def fit_transform(self, *args, **kwargs):\n",
    "        return pd.DataFrame(super().fit_transform(*args, **kwargs), columns=self.get_feature_names())"
   ]
  },
  {
   "cell_type": "code",
   "execution_count": 90,
   "metadata": {
    "hidden": true,
    "scrolled": true
   },
   "outputs": [
    {
     "data": {
      "text/html": [
       "<style>div.sk-top-container {color: black;background-color: white;}div.sk-toggleable {background-color: white;}label.sk-toggleable__label {cursor: pointer;display: block;width: 100%;margin-bottom: 0;padding: 0.2em 0.3em;box-sizing: border-box;text-align: center;}div.sk-toggleable__content {max-height: 0;max-width: 0;overflow: hidden;text-align: left;background-color: #f0f8ff;}div.sk-toggleable__content pre {margin: 0.2em;color: black;border-radius: 0.25em;background-color: #f0f8ff;}input.sk-toggleable__control:checked~div.sk-toggleable__content {max-height: 200px;max-width: 100%;overflow: auto;}div.sk-estimator input.sk-toggleable__control:checked~label.sk-toggleable__label {background-color: #d4ebff;}div.sk-label input.sk-toggleable__control:checked~label.sk-toggleable__label {background-color: #d4ebff;}input.sk-hidden--visually {border: 0;clip: rect(1px 1px 1px 1px);clip: rect(1px, 1px, 1px, 1px);height: 1px;margin: -1px;overflow: hidden;padding: 0;position: absolute;width: 1px;}div.sk-estimator {font-family: monospace;background-color: #f0f8ff;margin: 0.25em 0.25em;border: 1px dotted black;border-radius: 0.25em;box-sizing: border-box;}div.sk-estimator:hover {background-color: #d4ebff;}div.sk-parallel-item::after {content: \"\";width: 100%;border-bottom: 1px solid gray;flex-grow: 1;}div.sk-label:hover label.sk-toggleable__label {background-color: #d4ebff;}div.sk-serial::before {content: \"\";position: absolute;border-left: 1px solid gray;box-sizing: border-box;top: 2em;bottom: 0;left: 50%;}div.sk-serial {display: flex;flex-direction: column;align-items: center;background-color: white;}div.sk-item {z-index: 1;}div.sk-parallel {display: flex;align-items: stretch;justify-content: center;background-color: white;}div.sk-parallel-item {display: flex;flex-direction: column;position: relative;background-color: white;}div.sk-parallel-item:first-child::after {align-self: flex-end;width: 50%;}div.sk-parallel-item:last-child::after {align-self: flex-start;width: 50%;}div.sk-parallel-item:only-child::after {width: 0;}div.sk-dashed-wrapped {border: 1px dashed gray;margin: 0.2em;box-sizing: border-box;padding-bottom: 0.1em;background-color: white;position: relative;}div.sk-label label {font-family: monospace;font-weight: bold;background-color: white;display: inline-block;line-height: 1.2em;}div.sk-label-container {position: relative;z-index: 2;text-align: center;}div.sk-container {display: inline-block;position: relative;}</style><div class=\"sk-top-container\"><div class=\"sk-container\"><div class=\"sk-item sk-dashed-wrapped\"><div class=\"sk-label-container\"><div class=\"sk-label sk-toggleable\"><input class=\"sk-toggleable__control sk-hidden--visually\" id=\"a10170b6-8ad4-4392-bf58-afd980f85f38\" type=\"checkbox\" ><label class=\"sk-toggleable__label\" for=\"a10170b6-8ad4-4392-bf58-afd980f85f38\">Pipeline</label><div class=\"sk-toggleable__content\"><pre>Pipeline(memory='/var/folders/dt/552dh9wd7yx6f5wxdyrg4ghw0000gn/T/tmpn90zwhp3',\n",
       "         steps=[('preprocessing',\n",
       "                 ColumnTransformer(transformers=[('num_transformer',\n",
       "                                                  MinMaxScaler(),\n",
       "                                                  <sklearn.compose._column_transformer.make_column_selector object at 0x125c3ce50>),\n",
       "                                                 ('cat_transformer',\n",
       "                                                  OneHotEncoder(handle_unknown='ignore'),\n",
       "                                                  <sklearn.compose._column_transformer.make_column_selector object at 0x125c44520>)])),\n",
       "                ('linear_regression', Ridge())])</pre></div></div></div><div class=\"sk-serial\"><div class=\"sk-item sk-dashed-wrapped\"><div class=\"sk-label-container\"><div class=\"sk-label sk-toggleable\"><input class=\"sk-toggleable__control sk-hidden--visually\" id=\"bf1d8aa1-2dbf-4ac0-aeac-8e21495bdf71\" type=\"checkbox\" ><label class=\"sk-toggleable__label\" for=\"bf1d8aa1-2dbf-4ac0-aeac-8e21495bdf71\">preprocessing: ColumnTransformer</label><div class=\"sk-toggleable__content\"><pre>ColumnTransformer(transformers=[('num_transformer', MinMaxScaler(),\n",
       "                                 <sklearn.compose._column_transformer.make_column_selector object at 0x125c3ce50>),\n",
       "                                ('cat_transformer',\n",
       "                                 OneHotEncoder(handle_unknown='ignore'),\n",
       "                                 <sklearn.compose._column_transformer.make_column_selector object at 0x125c44520>)])</pre></div></div></div><div class=\"sk-parallel\"><div class=\"sk-parallel-item\"><div class=\"sk-item\"><div class=\"sk-label-container\"><div class=\"sk-label sk-toggleable\"><input class=\"sk-toggleable__control sk-hidden--visually\" id=\"c6511bcd-808e-4a8b-b2ac-76457ff59b8c\" type=\"checkbox\" ><label class=\"sk-toggleable__label\" for=\"c6511bcd-808e-4a8b-b2ac-76457ff59b8c\">num_transformer</label><div class=\"sk-toggleable__content\"><pre><sklearn.compose._column_transformer.make_column_selector object at 0x125c3ce50></pre></div></div></div><div class=\"sk-serial\"><div class=\"sk-item\"><div class=\"sk-estimator sk-toggleable\"><input class=\"sk-toggleable__control sk-hidden--visually\" id=\"29964fe7-0aed-4db3-89ec-9542f3ac0e86\" type=\"checkbox\" ><label class=\"sk-toggleable__label\" for=\"29964fe7-0aed-4db3-89ec-9542f3ac0e86\">MinMaxScaler</label><div class=\"sk-toggleable__content\"><pre>MinMaxScaler()</pre></div></div></div></div></div></div><div class=\"sk-parallel-item\"><div class=\"sk-item\"><div class=\"sk-label-container\"><div class=\"sk-label sk-toggleable\"><input class=\"sk-toggleable__control sk-hidden--visually\" id=\"23898d7d-e805-4fce-baec-0c08d6220acd\" type=\"checkbox\" ><label class=\"sk-toggleable__label\" for=\"23898d7d-e805-4fce-baec-0c08d6220acd\">cat_transformer</label><div class=\"sk-toggleable__content\"><pre><sklearn.compose._column_transformer.make_column_selector object at 0x125c44520></pre></div></div></div><div class=\"sk-serial\"><div class=\"sk-item\"><div class=\"sk-estimator sk-toggleable\"><input class=\"sk-toggleable__control sk-hidden--visually\" id=\"61086619-41fd-4e96-a122-edb81c78768b\" type=\"checkbox\" ><label class=\"sk-toggleable__label\" for=\"61086619-41fd-4e96-a122-edb81c78768b\">OneHotEncoder</label><div class=\"sk-toggleable__content\"><pre>OneHotEncoder(handle_unknown='ignore')</pre></div></div></div></div></div></div></div></div><div class=\"sk-item\"><div class=\"sk-estimator sk-toggleable\"><input class=\"sk-toggleable__control sk-hidden--visually\" id=\"2b5389cd-8ccf-4f85-9011-70c4f690ec2c\" type=\"checkbox\" ><label class=\"sk-toggleable__label\" for=\"2b5389cd-8ccf-4f85-9011-70c4f690ec2c\">Ridge</label><div class=\"sk-toggleable__content\"><pre>Ridge()</pre></div></div></div></div></div></div></div>"
      ],
      "text/plain": [
       "Pipeline(memory='/var/folders/dt/552dh9wd7yx6f5wxdyrg4ghw0000gn/T/tmpn90zwhp3',\n",
       "         steps=[('preprocessing',\n",
       "                 ColumnTransformer(transformers=[('num_transformer',\n",
       "                                                  MinMaxScaler(),\n",
       "                                                  <sklearn.compose._column_transformer.make_column_selector object at 0x125c3ce50>),\n",
       "                                                 ('cat_transformer',\n",
       "                                                  OneHotEncoder(handle_unknown='ignore'),\n",
       "                                                  <sklearn.compose._column_transformer.make_column_selector object at 0x125c44520>)])),\n",
       "                ('linear_regression', Ridge())])"
      ]
     },
     "execution_count": 90,
     "metadata": {},
     "output_type": "execute_result"
    }
   ],
   "source": [
    "from sklearn.pipeline import Pipeline\n",
    "from sklearn.preprocessing import OneHotEncoder\n",
    "from sklearn.preprocessing import MinMaxScaler\n",
    "from sklearn.compose import ColumnTransformer, make_column_selector\n",
    "from sklearn.linear_model import Ridge\n",
    "\n",
    "from tempfile import mkdtemp\n",
    "from shutil import rmtree\n",
    "\n",
    "# Create a temp folder\n",
    "cachedir = mkdtemp()\n",
    "\n",
    "num_transformer = MinMaxScaler()\n",
    "cat_transformer = OneHotEncoder(handle_unknown = 'ignore')\n",
    "\n",
    "preprocessor = ColumnTransformer([\n",
    "    (\"num_transformer\", num_transformer, make_column_selector(dtype_include = ['int', 'float'])),\n",
    "    (\"cat_transformer\", cat_transformer, make_column_selector(dtype_include = ['object', 'bool']))\n",
    "])\n",
    "pipe = Pipeline([\n",
    "    ('preprocessing', preprocessor),\n",
    "    ('linear_regression', Ridge())\n",
    "], \n",
    "    memory = cachedir # Avoid recalculating transformer variables during cross validations or grid searches\n",
    ")\n",
    "\n",
    "# Clear the cache directory after the cross-validation\n",
    "rmtree(cachedir)\n",
    "pipe"
   ]
  },
  {
   "cell_type": "code",
   "execution_count": 91,
   "metadata": {
    "hidden": true,
    "scrolled": true
   },
   "outputs": [
    {
     "data": {
      "text/html": [
       "<style>div.sk-top-container {color: black;background-color: white;}div.sk-toggleable {background-color: white;}label.sk-toggleable__label {cursor: pointer;display: block;width: 100%;margin-bottom: 0;padding: 0.2em 0.3em;box-sizing: border-box;text-align: center;}div.sk-toggleable__content {max-height: 0;max-width: 0;overflow: hidden;text-align: left;background-color: #f0f8ff;}div.sk-toggleable__content pre {margin: 0.2em;color: black;border-radius: 0.25em;background-color: #f0f8ff;}input.sk-toggleable__control:checked~div.sk-toggleable__content {max-height: 200px;max-width: 100%;overflow: auto;}div.sk-estimator input.sk-toggleable__control:checked~label.sk-toggleable__label {background-color: #d4ebff;}div.sk-label input.sk-toggleable__control:checked~label.sk-toggleable__label {background-color: #d4ebff;}input.sk-hidden--visually {border: 0;clip: rect(1px 1px 1px 1px);clip: rect(1px, 1px, 1px, 1px);height: 1px;margin: -1px;overflow: hidden;padding: 0;position: absolute;width: 1px;}div.sk-estimator {font-family: monospace;background-color: #f0f8ff;margin: 0.25em 0.25em;border: 1px dotted black;border-radius: 0.25em;box-sizing: border-box;}div.sk-estimator:hover {background-color: #d4ebff;}div.sk-parallel-item::after {content: \"\";width: 100%;border-bottom: 1px solid gray;flex-grow: 1;}div.sk-label:hover label.sk-toggleable__label {background-color: #d4ebff;}div.sk-serial::before {content: \"\";position: absolute;border-left: 1px solid gray;box-sizing: border-box;top: 2em;bottom: 0;left: 50%;}div.sk-serial {display: flex;flex-direction: column;align-items: center;background-color: white;}div.sk-item {z-index: 1;}div.sk-parallel {display: flex;align-items: stretch;justify-content: center;background-color: white;}div.sk-parallel-item {display: flex;flex-direction: column;position: relative;background-color: white;}div.sk-parallel-item:first-child::after {align-self: flex-end;width: 50%;}div.sk-parallel-item:last-child::after {align-self: flex-start;width: 50%;}div.sk-parallel-item:only-child::after {width: 0;}div.sk-dashed-wrapped {border: 1px dashed gray;margin: 0.2em;box-sizing: border-box;padding-bottom: 0.1em;background-color: white;position: relative;}div.sk-label label {font-family: monospace;font-weight: bold;background-color: white;display: inline-block;line-height: 1.2em;}div.sk-label-container {position: relative;z-index: 2;text-align: center;}div.sk-container {display: inline-block;position: relative;}</style><div class=\"sk-top-container\"><div class=\"sk-container\"><div class=\"sk-item sk-dashed-wrapped\"><div class=\"sk-label-container\"><div class=\"sk-label sk-toggleable\"><input class=\"sk-toggleable__control sk-hidden--visually\" id=\"6117a16c-8db1-493c-9c01-9e3a46e6152d\" type=\"checkbox\" ><label class=\"sk-toggleable__label\" for=\"6117a16c-8db1-493c-9c01-9e3a46e6152d\">Pipeline</label><div class=\"sk-toggleable__content\"><pre>Pipeline(memory='/var/folders/dt/552dh9wd7yx6f5wxdyrg4ghw0000gn/T/tmpn90zwhp3',\n",
       "         steps=[('preprocessing',\n",
       "                 ColumnTransformer(transformers=[('num_transformer',\n",
       "                                                  MinMaxScaler(),\n",
       "                                                  <sklearn.compose._column_transformer.make_column_selector object at 0x125c3d370>),\n",
       "                                                 ('cat_transformer',\n",
       "                                                  OneHotEncoder(handle_unknown='ignore'),\n",
       "                                                  <sklearn.compose._column_transformer.make_column_selector object at 0x125c3d220>)])),\n",
       "                ('linear_regression', Ridge())])</pre></div></div></div><div class=\"sk-serial\"><div class=\"sk-item sk-dashed-wrapped\"><div class=\"sk-label-container\"><div class=\"sk-label sk-toggleable\"><input class=\"sk-toggleable__control sk-hidden--visually\" id=\"666b7c8c-6a25-4373-bbb5-3446c3d457c0\" type=\"checkbox\" ><label class=\"sk-toggleable__label\" for=\"666b7c8c-6a25-4373-bbb5-3446c3d457c0\">preprocessing: ColumnTransformer</label><div class=\"sk-toggleable__content\"><pre>ColumnTransformer(transformers=[('num_transformer', MinMaxScaler(),\n",
       "                                 <sklearn.compose._column_transformer.make_column_selector object at 0x125c3d370>),\n",
       "                                ('cat_transformer',\n",
       "                                 OneHotEncoder(handle_unknown='ignore'),\n",
       "                                 <sklearn.compose._column_transformer.make_column_selector object at 0x125c3d220>)])</pre></div></div></div><div class=\"sk-parallel\"><div class=\"sk-parallel-item\"><div class=\"sk-item\"><div class=\"sk-label-container\"><div class=\"sk-label sk-toggleable\"><input class=\"sk-toggleable__control sk-hidden--visually\" id=\"c82c28c2-5be1-4d07-80cb-8edb78ec01cf\" type=\"checkbox\" ><label class=\"sk-toggleable__label\" for=\"c82c28c2-5be1-4d07-80cb-8edb78ec01cf\">num_transformer</label><div class=\"sk-toggleable__content\"><pre><sklearn.compose._column_transformer.make_column_selector object at 0x125c3d370></pre></div></div></div><div class=\"sk-serial\"><div class=\"sk-item\"><div class=\"sk-estimator sk-toggleable\"><input class=\"sk-toggleable__control sk-hidden--visually\" id=\"a61fe716-95cf-4786-81c6-49a20eae9bab\" type=\"checkbox\" ><label class=\"sk-toggleable__label\" for=\"a61fe716-95cf-4786-81c6-49a20eae9bab\">MinMaxScaler</label><div class=\"sk-toggleable__content\"><pre>MinMaxScaler()</pre></div></div></div></div></div></div><div class=\"sk-parallel-item\"><div class=\"sk-item\"><div class=\"sk-label-container\"><div class=\"sk-label sk-toggleable\"><input class=\"sk-toggleable__control sk-hidden--visually\" id=\"24aa9591-8f85-447b-8d8b-0b254afce6c4\" type=\"checkbox\" ><label class=\"sk-toggleable__label\" for=\"24aa9591-8f85-447b-8d8b-0b254afce6c4\">cat_transformer</label><div class=\"sk-toggleable__content\"><pre><sklearn.compose._column_transformer.make_column_selector object at 0x125c3d220></pre></div></div></div><div class=\"sk-serial\"><div class=\"sk-item\"><div class=\"sk-estimator sk-toggleable\"><input class=\"sk-toggleable__control sk-hidden--visually\" id=\"1e4a374b-8402-48ca-b0a2-70ae21f36094\" type=\"checkbox\" ><label class=\"sk-toggleable__label\" for=\"1e4a374b-8402-48ca-b0a2-70ae21f36094\">OneHotEncoder</label><div class=\"sk-toggleable__content\"><pre>OneHotEncoder(handle_unknown='ignore')</pre></div></div></div></div></div></div></div></div><div class=\"sk-item\"><div class=\"sk-estimator sk-toggleable\"><input class=\"sk-toggleable__control sk-hidden--visually\" id=\"0a656495-ab3d-48bd-b17b-ac97e34adb5a\" type=\"checkbox\" ><label class=\"sk-toggleable__label\" for=\"0a656495-ab3d-48bd-b17b-ac97e34adb5a\">Ridge</label><div class=\"sk-toggleable__content\"><pre>Ridge()</pre></div></div></div></div></div></div></div>"
      ],
      "text/plain": [
       "Pipeline(memory='/var/folders/dt/552dh9wd7yx6f5wxdyrg4ghw0000gn/T/tmpn90zwhp3',\n",
       "         steps=[('preprocessing',\n",
       "                 ColumnTransformer(transformers=[('num_transformer',\n",
       "                                                  MinMaxScaler(),\n",
       "                                                  <sklearn.compose._column_transformer.make_column_selector object at 0x125c3d370>),\n",
       "                                                 ('cat_transformer',\n",
       "                                                  OneHotEncoder(handle_unknown='ignore'),\n",
       "                                                  <sklearn.compose._column_transformer.make_column_selector object at 0x125c3d220>)])),\n",
       "                ('linear_regression', Ridge())])"
      ]
     },
     "execution_count": 91,
     "metadata": {},
     "output_type": "execute_result"
    }
   ],
   "source": [
    "pipe.fit(X,y)"
   ]
  },
  {
   "cell_type": "markdown",
   "metadata": {},
   "source": [
    "## GridSearch"
   ]
  },
  {
   "cell_type": "code",
   "execution_count": 92,
   "metadata": {},
   "outputs": [
    {
     "data": {
      "text/plain": [
       "0.7463757475045647"
      ]
     },
     "execution_count": 92,
     "metadata": {},
     "output_type": "execute_result"
    }
   ],
   "source": [
    "from sklearn.model_selection import cross_val_score\n",
    "\n",
    "# Cross validate pipeline\n",
    "cross_val_score(pipe, X, y, cv=5, scoring='r2').mean()"
   ]
  },
  {
   "cell_type": "code",
   "execution_count": 93,
   "metadata": {
    "scrolled": true
   },
   "outputs": [
    {
     "name": "stdout",
     "output_type": "stream",
     "text": [
      "memory : /var/folders/dt/552dh9wd7yx6f5wxdyrg4ghw0000gn/T/tmpn90zwhp3\n",
      "steps : [('preprocessing', ColumnTransformer(transformers=[('num_transformer', MinMaxScaler(),\n",
      "                                 <sklearn.compose._column_transformer.make_column_selector object at 0x125c3d370>),\n",
      "                                ('cat_transformer',\n",
      "                                 OneHotEncoder(handle_unknown='ignore'),\n",
      "                                 <sklearn.compose._column_transformer.make_column_selector object at 0x125c3d220>)])), ('linear_regression', Ridge())]\n",
      "verbose : False\n",
      "preprocessing : ColumnTransformer(transformers=[('num_transformer', MinMaxScaler(),\n",
      "                                 <sklearn.compose._column_transformer.make_column_selector object at 0x125c3d370>),\n",
      "                                ('cat_transformer',\n",
      "                                 OneHotEncoder(handle_unknown='ignore'),\n",
      "                                 <sklearn.compose._column_transformer.make_column_selector object at 0x125c3d220>)])\n",
      "linear_regression : Ridge()\n",
      "preprocessing__n_jobs : None\n",
      "preprocessing__remainder : drop\n",
      "preprocessing__sparse_threshold : 0.3\n",
      "preprocessing__transformer_weights : None\n",
      "preprocessing__transformers : [('num_transformer', MinMaxScaler(), <sklearn.compose._column_transformer.make_column_selector object at 0x125c3d370>), ('cat_transformer', OneHotEncoder(handle_unknown='ignore'), <sklearn.compose._column_transformer.make_column_selector object at 0x125c3d220>)]\n",
      "preprocessing__verbose : False\n",
      "preprocessing__num_transformer : MinMaxScaler()\n",
      "preprocessing__cat_transformer : OneHotEncoder(handle_unknown='ignore')\n",
      "preprocessing__num_transformer__copy : True\n",
      "preprocessing__num_transformer__feature_range : (0, 1)\n",
      "preprocessing__cat_transformer__categories : auto\n",
      "preprocessing__cat_transformer__drop : None\n",
      "preprocessing__cat_transformer__dtype : <class 'numpy.float64'>\n",
      "preprocessing__cat_transformer__handle_unknown : ignore\n",
      "preprocessing__cat_transformer__sparse : True\n",
      "linear_regression__alpha : 1.0\n",
      "linear_regression__copy_X : True\n",
      "linear_regression__fit_intercept : True\n",
      "linear_regression__max_iter : None\n",
      "linear_regression__normalize : False\n",
      "linear_regression__random_state : None\n",
      "linear_regression__solver : auto\n",
      "linear_regression__tol : 0.001\n"
     ]
    }
   ],
   "source": [
    "#### Get all pipe components parameters (to find hyper params names)\n",
    "for param in pipe.get_params().keys():\n",
    "    print(param, \":\", pipe.get_params()[param])"
   ]
  },
  {
   "cell_type": "code",
   "execution_count": 89,
   "metadata": {},
   "outputs": [
    {
     "data": {
      "text/plain": [
       "{'linear_regression__alpha': 0.5}"
      ]
     },
     "execution_count": 89,
     "metadata": {},
     "output_type": "execute_result"
    }
   ],
   "source": [
    "from sklearn.model_selection import GridSearchCV\n",
    "\n",
    "# Instanciate grid search\n",
    "grid_search = GridSearchCV(\n",
    "    pipe, \n",
    "    param_grid={\n",
    "        # Access any component of the pipeline, as far back as you want\n",
    "        'linear_regression__alpha': [0.1, 0.5, 1, 5, 10]},\n",
    "    cv=5,\n",
    "    scoring=\"r2\")\n",
    "\n",
    "grid_search.fit(X, y)\n",
    "grid_search.best_params_"
   ]
  },
  {
   "cell_type": "code",
   "execution_count": 95,
   "metadata": {},
   "outputs": [],
   "source": [
    "tuned_pipe = grid_search.best_estimator_"
   ]
  },
  {
   "cell_type": "markdown",
   "metadata": {},
   "source": [
    "### Save pipe"
   ]
  },
  {
   "cell_type": "code",
   "execution_count": 96,
   "metadata": {},
   "outputs": [],
   "source": [
    "import pickle\n",
    "\n",
    "# Export pipeline as pickle file\n",
    "with open(\"pipeline.pkl\", \"wb\") as file:\n",
    "    pickle.dump(tuned_pipe, file)\n",
    "\n",
    "# Load pipeline from pickle file\n",
    "my_pipeline = pickle.load(open(\"pipeline.pkl\",\"rb\"))\n",
    "\n",
    "# my_pipeline.predict(X_test, y_test)"
   ]
  },
  {
   "cell_type": "markdown",
   "metadata": {
    "heading_collapsed": true
   },
   "source": [
    "## TPOT: Tree-based Pipeline Optimization Tool"
   ]
  },
  {
   "cell_type": "code",
   "execution_count": 101,
   "metadata": {
    "hidden": true
   },
   "outputs": [
    {
     "data": {
      "application/vnd.jupyter.widget-view+json": {
       "model_id": "",
       "version_major": 2,
       "version_minor": 0
      },
      "text/plain": [
       "HBox(children=(HTML(value='Optimization Progress'), FloatProgress(value=0.0, max=300.0), HTML(value='')))"
      ]
     },
     "metadata": {},
     "output_type": "display_data"
    },
    {
     "name": "stdout",
     "output_type": "stream",
     "text": [
      "\n",
      "Generation 1 - Current best internal CV score: 0.9826086956521738\n",
      "\n",
      "Generation 2 - Current best internal CV score: 0.9826086956521738\n",
      "\n",
      "Generation 3 - Current best internal CV score: 0.9826086956521738\n",
      "\n",
      "Generation 4 - Current best internal CV score: 0.9826086956521738\n",
      "\n",
      "Generation 5 - Current best internal CV score: 0.9826086956521738\n",
      "\n",
      "Best pipeline: LogisticRegression(SGDClassifier(input_matrix, alpha=0.001, eta0=0.01, fit_intercept=True, l1_ratio=1.0, learning_rate=constant, loss=perceptron, penalty=elasticnet, power_t=10.0), C=5.0, dual=False, penalty=l2)\n",
      "0.9473684210526315\n"
     ]
    }
   ],
   "source": [
    "import numpy as np\n",
    "from sklearn.datasets import load_iris\n",
    "from sklearn.model_selection import train_test_split\n",
    "\n",
    "from tpot import TPOTClassifier\n",
    "\n",
    "# load iris dataset\n",
    "iris = load_iris()\n",
    "# hold out\n",
    "X_train, X_test, y_train, y_test = train_test_split(iris.data.astype(np.float64),\n",
    "    iris.target.astype(np.float64), train_size=0.75, test_size=0.25)\n",
    "# instanciate TPOTClassifier\n",
    "tpot = TPOTClassifier(generations=5, population_size=50, verbosity=2)\n",
    "# process autoML with TPOT\n",
    "tpot.fit(X_train, y_train)\n",
    "# print score\n",
    "print(tpot.score(X_test, y_test))\n",
    "# export TPOT pipeline to a python file\n",
    "tpot.export('tpot_iris_pipeline.py')\n"
   ]
  },
  {
   "cell_type": "markdown",
   "metadata": {
    "heading_collapsed": true
   },
   "source": [
    "# MlFlow QuickStart"
   ]
  },
  {
   "cell_type": "code",
   "execution_count": 45,
   "metadata": {
    "hidden": true
   },
   "outputs": [],
   "source": [
    "from mlflow.tracking import MlflowClient\n",
    "\n",
    "EXPERIMENT_NAME = \"test-mlflow-class\"\n",
    "\n",
    "client = MlflowClient()\n",
    "try:\n",
    "    experiment_id = client.get_experiment_by_name(EXPERIMENT_NAME).experiment_id\n",
    "except:\n",
    "    experiment_id = client.create_experiment(EXPERIMENT_NAME)\n",
    "\n",
    "run = client.create_run(experiment_id)\n",
    "client.log_metric(run.info.run_id, \"rmse\", 4.5)\n",
    "client.log_param(run.info.run_id, \"model\", \"Randomforest\")"
   ]
  },
  {
   "cell_type": "code",
   "execution_count": null,
   "metadata": {
    "hidden": true,
    "scrolled": true
   },
   "outputs": [
    {
     "name": "stdout",
     "output_type": "stream",
     "text": [
      "[2021-01-28 23:10:20 +0100] [66491] [INFO] Starting gunicorn 20.0.4\r\n",
      "[2021-01-28 23:10:20 +0100] [66491] [INFO] Listening at: http://127.0.0.1:5000 (66491)\r\n",
      "[2021-01-28 23:10:20 +0100] [66491] [INFO] Using worker: sync\r\n",
      "[2021-01-28 23:10:20 +0100] [66493] [INFO] Booting worker with pid: 66493\r\n"
     ]
    }
   ],
   "source": [
    "! mlflow ui"
   ]
  },
  {
   "cell_type": "code",
   "execution_count": 52,
   "metadata": {
    "hidden": true
   },
   "outputs": [],
   "source": [
    "from memoized_property import memoized_property\n",
    "import mlflow\n",
    "from mlflow.tracking import MlflowClient\n",
    "\n",
    "class Mlflow(object):\n",
    "    \n",
    "    def __init__(self, experiment_name):\n",
    "        self.experiment_name = experiment_name\n",
    "    \n",
    "    @memoized_property\n",
    "    def mlflow_client(self):\n",
    "        return MlflowClient()\n",
    "    \n",
    "    @memoized_property\n",
    "    def mlflow_experiment_id(self):\n",
    "        try:\n",
    "            return self.mlflow_client.\\\n",
    "                    create_experiment(self.experiment_name)\n",
    "        except BaseException:\n",
    "            return self.mlflow_client.\\\n",
    "                    get_experiment_by_name(self.experiment_name).experiment_id\n",
    "        \n",
    "    def mlflow_create_run(self):\n",
    "        self.mlflow_run = self.mlflow_client.create_run(self.mlflow_experiment_id)\n",
    "        \n",
    "    def mlflow_log_param(self, key, value):\n",
    "        self.mlflow_client.log_param(self.mlflow_run.info.run_id, key, value)\n",
    "        \n",
    "    def mlflow_log_metric(self, key, value):\n",
    "        self.mlflow_client.log_metric(self.mlflow_run.info.run_id, key, value)\n",
    "        \n",
    "    def train(self):      \n",
    "        self.mlflow_create_run()\n",
    "        self.mlflow_log_param(\"model\", \"linear\")\n",
    "        self.mlflow_log_metric(\"rmse\", 4)\n",
    "        \n",
    "trainer = Mlflow(\"test-mlflow-class\")\n",
    "trainer.train()\n",
    "    "
   ]
  },
  {
   "cell_type": "code",
   "execution_count": null,
   "metadata": {
    "hidden": true
   },
   "outputs": [],
   "source": []
  }
 ],
 "metadata": {
  "kernelspec": {
   "display_name": "Python 3",
   "language": "python",
   "name": "python3"
  },
  "language_info": {
   "codemirror_mode": {
    "name": "ipython",
    "version": 3
   },
   "file_extension": ".py",
   "mimetype": "text/x-python",
   "name": "python",
   "nbconvert_exporter": "python",
   "pygments_lexer": "ipython3",
   "version": "3.8.5"
  },
  "toc": {
   "base_numbering": 1,
   "nav_menu": {},
   "number_sections": true,
   "sideBar": true,
   "skip_h1_title": true,
   "title_cell": "Table of Contents",
   "title_sidebar": "Contents",
   "toc_cell": false,
   "toc_position": {},
   "toc_section_display": true,
   "toc_window_display": true
  }
 },
 "nbformat": 4,
 "nbformat_minor": 4
}
